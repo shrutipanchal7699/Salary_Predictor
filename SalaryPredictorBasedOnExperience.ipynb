{
 "cells": [
  {
   "cell_type": "code",
   "execution_count": 150,
   "metadata": {},
   "outputs": [],
   "source": [
    "#importing libraries\n",
    "\n",
    "import numpy as np\n",
    "import matplotlib.pyplot as plt\n",
    "import pandas as pd"
   ]
  },
  {
   "cell_type": "code",
   "execution_count": 151,
   "metadata": {
    "scrolled": true
   },
   "outputs": [
    {
     "name": "stdout",
     "output_type": "stream",
     "text": [
      "[ 39343.  46205.  37731.  43525.  39891.  56642.  60150.  54445.  64445.\n",
      "  57189.  63218.     nan  56957.  57081.  61111.  67938.  66029.  83088.\n",
      "     nan  93940.  91738.  98273. 101302. 113812. 109431. 105582. 116969.\n",
      " 112635. 122391. 121872.]\n"
     ]
    }
   ],
   "source": [
    "# read the file\n",
    "\n",
    "dataset = pd.read_csv('Data-hw1.csv')\n",
    "X =  dataset.iloc[:,:-1].values\n",
    "y = dataset.iloc[:,3].values\n",
    "\n",
    "print(y)"
   ]
  },
  {
   "cell_type": "code",
   "execution_count": 152,
   "metadata": {},
   "outputs": [],
   "source": [
    "# eliminate the missing data\n",
    "\n",
    "from sklearn.impute import SimpleImputer\n",
    "imputer = SimpleImputer(missing_values = np.nan, strategy = 'mean')\n",
    "imputer.fit(X[:,1:3])\n",
    "X[:,1:3] = imputer.transform(X[:,1:3])\n",
    "\n"
   ]
  },
  {
   "cell_type": "code",
   "execution_count": 153,
   "metadata": {},
   "outputs": [
    {
     "name": "stdout",
     "output_type": "stream",
     "text": [
      "[[1.0 0.0 0.0 44.0 1.1]\n",
      " [0.0 0.0 1.0 27.0 1.3]\n",
      " [0.0 1.0 0.0 30.0 1.5]\n",
      " [0.0 0.0 1.0 38.0 2.0]\n",
      " [0.0 1.0 0.0 40.0 2.2]\n",
      " [1.0 0.0 0.0 35.0 2.9]\n",
      " [0.0 0.0 1.0 38.77777777777778 3.0]\n",
      " [1.0 0.0 0.0 48.0 3.2]\n",
      " [0.0 1.0 0.0 50.0 5.364285714285715]\n",
      " [1.0 0.0 0.0 37.0 3.7]\n",
      " [1.0 0.0 0.0 44.0 3.9]\n",
      " [0.0 0.0 1.0 27.0 4.0]\n",
      " [0.0 1.0 0.0 30.0 4.0]\n",
      " [0.0 0.0 1.0 38.0 4.1]\n",
      " [0.0 1.0 0.0 40.0 4.5]\n",
      " [1.0 0.0 0.0 35.0 4.9]\n",
      " [0.0 0.0 1.0 38.77777777777778 5.1]\n",
      " [1.0 0.0 0.0 48.0 5.3]\n",
      " [0.0 1.0 0.0 50.0 5.9]\n",
      " [1.0 0.0 0.0 37.0 5.364285714285715]\n",
      " [1.0 0.0 0.0 44.0 6.8]\n",
      " [0.0 0.0 1.0 27.0 7.1]\n",
      " [0.0 1.0 0.0 30.0 7.9]\n",
      " [0.0 0.0 1.0 38.0 8.2]\n",
      " [0.0 1.0 0.0 40.0 8.7]\n",
      " [1.0 0.0 0.0 35.0 9.0]\n",
      " [0.0 0.0 1.0 38.77777777777778 9.5]\n",
      " [1.0 0.0 0.0 48.0 9.6]\n",
      " [0.0 1.0 0.0 50.0 10.3]\n",
      " [1.0 0.0 0.0 37.0 10.5]]\n",
      "[ 1  4  0  3  2  6 10  5 13  9 12 29  7  8 11 15 14 16 28 18 17 19 20 24\n",
      " 22 21 25 23 27 26]\n"
     ]
    }
   ],
   "source": [
    "#convert to categorical data\n",
    "\n",
    "from sklearn.compose import ColumnTransformer\n",
    "from sklearn.preprocessing import OneHotEncoder\n",
    "\n",
    "ct = ColumnTransformer(transformers =[('encoder', OneHotEncoder() , [0])], remainder = 'passthrough')\n",
    "X = np.array(ct.fit_transform(X))\n",
    "print(X)\n",
    "\n",
    "from sklearn.preprocessing import LabelEncoder\n",
    "le = LabelEncoder()\n",
    "y = le.fit_transform(y)\n",
    "print(y)\n"
   ]
  },
  {
   "cell_type": "code",
   "execution_count": 154,
   "metadata": {},
   "outputs": [
    {
     "name": "stdout",
     "output_type": "stream",
     "text": [
      "[2.9 5.1 5.364285714285715 4.5 8.2 6.8 1.3 10.5 3.0 2.2 5.9\n",
      " 5.364285714285715 3.7 3.2 9.0 2.0 1.1 7.1 4.9 4.0]\n"
     ]
    }
   ],
   "source": [
    "# breaking dataset into training and testing set.\n",
    "\n",
    "x1 = X[:,-1]\n",
    "\n",
    "from sklearn.model_selection import train_test_split\n",
    "x_train, x_test, y_train, y_test = train_test_split(x1,y,test_size = 1/3, random_state = 0)\n",
    "\n",
    "print(x_train)"
   ]
  },
  {
   "cell_type": "code",
   "execution_count": 155,
   "metadata": {},
   "outputs": [
    {
     "data": {
      "text/plain": [
       "LinearRegression(copy_X=True, fit_intercept=True, n_jobs=None, normalize=False)"
      ]
     },
     "execution_count": 155,
     "metadata": {},
     "output_type": "execute_result"
    }
   ],
   "source": [
    "# linear regression \n",
    "\n",
    "x_train = np.reshape(x_train, (-1, 1))\n",
    "x_test = np.reshape(x_test, (-1, 1))\n",
    "\n",
    "from sklearn.linear_model import LinearRegression\n",
    "regressor = LinearRegression()\n",
    "regressor.fit(x_train, y_train)"
   ]
  },
  {
   "cell_type": "code",
   "execution_count": 156,
   "metadata": {},
   "outputs": [
    {
     "name": "stdout",
     "output_type": "stream",
     "text": [
      "[ 3.1  28.52 10.61 10.03 26.21 23.9  26.5  10.32 14.08 21.59]\n"
     ]
    }
   ],
   "source": [
    "#predicted test set results\n",
    "\n",
    "y_pred = regressor.predict(x_test)\n",
    "print(y_pred)"
   ]
  },
  {
   "cell_type": "code",
   "execution_count": 157,
   "metadata": {},
   "outputs": [
    {
     "name": "stdout",
     "output_type": "stream",
     "text": [
      "3.1 years of experience:  [7.72]\n",
      "7.0 years of experience:  [18.99]\n"
     ]
    }
   ],
   "source": [
    "#predict values for new data points\n",
    "\n",
    "# yearsExperience  = 3.1\n",
    "print('3.1 years of experience: ',regressor.predict([[3.1]]))\n",
    "\n",
    "# yearsExperience  = 7.0\n",
    "print('7.0 years of experience: ',regressor.predict([[7.0]]))\n"
   ]
  },
  {
   "cell_type": "code",
   "execution_count": 158,
   "metadata": {},
   "outputs": [
    {
     "data": {
      "image/png": "[encoded data removed]",
      "text/plain": [
       "<Figure size 432x288 with 1 Axes>"
      ]
     },
     "metadata": {
      "needs_background": "light"
     },
     "output_type": "display_data"
    }
   ],
   "source": [
    "# Training Set and Linear Regression Fit for the original data\n",
    "plt.scatter(x_train, y_train, color = 'red')\n",
    "plt.plot(x_train, regressor.predict(x_train), color='blue')\n",
    "plt.title('Salary vs Experience (Training set)')\n",
    "plt.xlabel('Years of Experience')\n",
    "plt.ylabel('Salary')\n",
    "plt.show()"
   ]
  },
  {
   "cell_type": "code",
   "execution_count": 159,
   "metadata": {},
   "outputs": [
    {
     "data": {
      "image/png": "[encoded data removed]",
      "text/plain": [
       "<Figure size 432x288 with 1 Axes>"
      ]
     },
     "metadata": {
      "needs_background": "light"
     },
     "output_type": "display_data"
    }
   ],
   "source": [
    "# Testing Set and Linear Regression Fit for the original data\n",
    "plt.scatter(x_test, y_test, color = 'red')\n",
    "plt.plot(x_train, regressor.predict(x_train), color='blue')\n",
    "plt.title('Salary vs Experience (Testing set)')\n",
    "plt.xlabel('Years of Experience')\n",
    "plt.ylabel('Salary')\n",
    "plt.show()"
   ]
  },
  {
   "cell_type": "code",
   "execution_count": 160,
   "metadata": {},
   "outputs": [
    {
     "data": {
      "image/png": "[encoded data removed]",
      "text/plain": [
       "<Figure size 432x288 with 1 Axes>"
      ]
     },
     "metadata": {
      "needs_background": "light"
     },
     "output_type": "display_data"
    }
   ],
   "source": [
    "# Training Set and Linear Regression Fit with the new data points\n",
    "plt.scatter(x_train, y_train, color = 'red')\n",
    "plt.scatter([[3.1]], regressor.predict([[3.1]]), color='green')\n",
    "plt.scatter([[7.0]], regressor.predict([[7.0]]), color='green')\n",
    "plt.plot(x_train, regressor.predict(x_train), color='blue')\n",
    "plt.title('Salary vs Experience (Training set)')\n",
    "plt.xlabel('Years of Experience')\n",
    "plt.ylabel('Salary')\n",
    "plt.show()\n"
   ]
  },
  {
   "cell_type": "code",
   "execution_count": 161,
   "metadata": {},
   "outputs": [
    {
     "data": {
      "image/png": "[encoded data removed]",
      "text/plain": [
       "<Figure size 432x288 with 1 Axes>"
      ]
     },
     "metadata": {
      "needs_background": "light"
     },
     "output_type": "display_data"
    }
   ],
   "source": [
    "# Testing Set and Linear Regression Fit with the new data  points\n",
    "plt.scatter(x_test, y_test, color = 'red')\n",
    "plt.scatter([[3.1]], regressor.predict([[3.1]]), color='green')\n",
    "plt.scatter([[7.0]], regressor.predict([[7.0]]), color='green')\n",
    "plt.plot(x_train, regressor.predict(x_train), color='blue')\n",
    "plt.title('Salary vs Experience (Testing set)')\n",
    "plt.xlabel('Years of Experience')\n",
    "plt.ylabel('Salary')\n",
    "plt.show()"
   ]
  },
  {
   "cell_type": "code",
   "execution_count": null,
   "metadata": {},
   "outputs": [],
   "source": []
  }
 ],
 "metadata": {
  "kernelspec": {
   "display_name": "Python 3",
   "language": "python",
   "name": "python3"
  },
  "language_info": {
   "codemirror_mode": {
    "name": "ipython",
    "version": 3
   },
   "file_extension": ".py",
   "mimetype": "text/x-python",
   "name": "python",
   "nbconvert_exporter": "python",
   "pygments_lexer": "ipython3",
   "version": "3.7.6"
  }
 },
 "nbformat": 4,
 "nbformat_minor": 4
}
